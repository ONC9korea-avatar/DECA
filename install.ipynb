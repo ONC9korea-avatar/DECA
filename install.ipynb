{
 "cells": [
  {
   "cell_type": "code",
   "execution_count": 1,
   "metadata": {},
   "outputs": [
    {
     "name": "stderr",
     "output_type": "stream",
     "text": [
      "/workspace/miniconda3/envs/deca-38/lib/python3.8/site-packages/tqdm/auto.py:21: TqdmWarning: IProgress not found. Please update jupyter and ipywidgets. See https://ipywidgets.readthedocs.io/en/stable/user_install.html\n",
      "  from .autonotebook import tqdm as notebook_tqdm\n"
     ]
    },
    {
     "name": "stdout",
     "output_type": "stream",
     "text": [
      "Requirement already satisfied: fvcore in /workspace/miniconda3/envs/deca-38/lib/python3.8/site-packages (0.1.5.post20210915)\n",
      "Requirement already satisfied: iopath in /workspace/miniconda3/envs/deca-38/lib/python3.8/site-packages (0.1.9)\n",
      "Requirement already satisfied: numpy in /workspace/miniconda3/envs/deca-38/lib/python3.8/site-packages (from fvcore) (1.18.5)\n",
      "Requirement already satisfied: yacs>=0.1.6 in /workspace/miniconda3/envs/deca-38/lib/python3.8/site-packages (from fvcore) (0.1.8)\n",
      "Requirement already satisfied: pyyaml>=5.1 in /workspace/miniconda3/envs/deca-38/lib/python3.8/site-packages (from fvcore) (5.1.1)\n",
      "Requirement already satisfied: tqdm in /workspace/miniconda3/envs/deca-38/lib/python3.8/site-packages (from fvcore) (4.66.1)\n",
      "Requirement already satisfied: termcolor>=1.1 in /workspace/miniconda3/envs/deca-38/lib/python3.8/site-packages (from fvcore) (2.3.0)\n",
      "Requirement already satisfied: Pillow in /workspace/miniconda3/envs/deca-38/lib/python3.8/site-packages (from fvcore) (10.0.0)\n",
      "Requirement already satisfied: tabulate in /workspace/miniconda3/envs/deca-38/lib/python3.8/site-packages (from fvcore) (0.9.0)\n",
      "Requirement already satisfied: portalocker in /workspace/miniconda3/envs/deca-38/lib/python3.8/site-packages (from iopath) (1.4.0)\n",
      "\u001b[33mWARNING: Running pip as the 'root' user can result in broken permissions and conflicting behaviour with the system package manager. It is recommended to use a virtual environment instead: https://pip.pypa.io/warnings/venv\u001b[0m\u001b[33m\n",
      "\u001b[0mLooking in links: https://dl.fbaipublicfiles.com/pytorch3d/packaging/wheels/py38_cu117_pyt1131/download.html\n",
      "Collecting pytorch3d\n",
      "  Downloading https://dl.fbaipublicfiles.com/pytorch3d/packaging/wheels/py38_cu117_pyt1131/pytorch3d-0.7.3-cp38-cp38-linux_x86_64.whl (72.7 MB)\n",
      "\u001b[2K     \u001b[90m━━━━━━━━━━━━━━━━━━━━━━━━━━━━━━━━━━━━━━━━\u001b[0m \u001b[32m72.7/72.7 MB\u001b[0m \u001b[31m19.6 MB/s\u001b[0m eta \u001b[36m0:00:00\u001b[0m00:01\u001b[0m00:01\u001b[0m\n",
      "\u001b[?25hRequirement already satisfied: fvcore in /workspace/miniconda3/envs/deca-38/lib/python3.8/site-packages (from pytorch3d) (0.1.5.post20210915)\n",
      "Requirement already satisfied: iopath in /workspace/miniconda3/envs/deca-38/lib/python3.8/site-packages (from pytorch3d) (0.1.9)\n",
      "Requirement already satisfied: numpy in /workspace/miniconda3/envs/deca-38/lib/python3.8/site-packages (from fvcore->pytorch3d) (1.18.5)\n",
      "Requirement already satisfied: yacs>=0.1.6 in /workspace/miniconda3/envs/deca-38/lib/python3.8/site-packages (from fvcore->pytorch3d) (0.1.8)\n",
      "Requirement already satisfied: pyyaml>=5.1 in /workspace/miniconda3/envs/deca-38/lib/python3.8/site-packages (from fvcore->pytorch3d) (5.1.1)\n",
      "Requirement already satisfied: tqdm in /workspace/miniconda3/envs/deca-38/lib/python3.8/site-packages (from fvcore->pytorch3d) (4.66.1)\n",
      "Requirement already satisfied: termcolor>=1.1 in /workspace/miniconda3/envs/deca-38/lib/python3.8/site-packages (from fvcore->pytorch3d) (2.3.0)\n",
      "Requirement already satisfied: Pillow in /workspace/miniconda3/envs/deca-38/lib/python3.8/site-packages (from fvcore->pytorch3d) (10.0.0)\n",
      "Requirement already satisfied: tabulate in /workspace/miniconda3/envs/deca-38/lib/python3.8/site-packages (from fvcore->pytorch3d) (0.9.0)\n",
      "Requirement already satisfied: portalocker in /workspace/miniconda3/envs/deca-38/lib/python3.8/site-packages (from iopath->pytorch3d) (1.4.0)\n",
      "Installing collected packages: pytorch3d\n",
      "Successfully installed pytorch3d-0.7.3\n",
      "\u001b[33mWARNING: Running pip as the 'root' user can result in broken permissions and conflicting behaviour with the system package manager. It is recommended to use a virtual environment instead: https://pip.pypa.io/warnings/venv\u001b[0m\u001b[33m\n",
      "\u001b[0m"
     ]
    }
   ],
   "source": [
    "import sys\n",
    "import torch\n",
    "pyt_version_str=torch.__version__.split(\"+\")[0].replace(\".\", \"\")\n",
    "version_str=\"\".join([\n",
    "    f\"py3{sys.version_info.minor}_cu\",\n",
    "    torch.version.cuda.replace(\".\",\"\"),\n",
    "    f\"_pyt{pyt_version_str}\"\n",
    "])\n",
    "!pip install fvcore iopath\n",
    "!pip install --no-index --no-cache-dir pytorch3d -f https://dl.fbaipublicfiles.com/pytorch3d/packaging/wheels/{version_str}/download.html"
   ]
  }
 ],
 "metadata": {
  "kernelspec": {
   "display_name": "deca-38",
   "language": "python",
   "name": "python3"
  },
  "language_info": {
   "codemirror_mode": {
    "name": "ipython",
    "version": 3
   },
   "file_extension": ".py",
   "mimetype": "text/x-python",
   "name": "python",
   "nbconvert_exporter": "python",
   "pygments_lexer": "ipython3",
   "version": "3.8.17"
  },
  "orig_nbformat": 4
 },
 "nbformat": 4,
 "nbformat_minor": 2
}
